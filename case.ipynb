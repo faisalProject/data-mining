{
 "cells": [
  {
   "cell_type": "markdown",
   "metadata": {},
   "source": [
    "##### Studi Kasus 1"
   ]
  },
  {
   "cell_type": "code",
   "execution_count": null,
   "metadata": {},
   "outputs": [],
   "source": [
    "import requests\n",
    "import pandas as pd\n",
    "import numpy as np\n",
    "import nltk\n",
    "from nltk.tokenize import word_tokenize\n",
    "from nltk.stem import WordNetLemmatizer\n",
    "import string\n",
    "\n",
    "url = \"http://103.82.92.37/DM20232/getdata.php?table=ms_lulusan\"\n",
    "\n",
    "payload={}\n",
    "headers = {'api-key': 'DM20232UBP'}\n",
    "\n",
    "response = requests.request(\"GET\", url, headers=headers, data=payload)\n",
    "\n",
    "if response.status_code == 200:\n",
    "    data = response.json()\n",
    "    df = pd.DataFrame(data['data'])\n",
    "\n",
    "    jumlah_data = len(df)\n",
    "    print(\"Data yang diterima: \", jumlah_data, '\\n')\n",
    "    print(data)\n",
    "\n",
    "else:\n",
    "    print(f\"Gagal mengambil data. Status code: {response.status_code}: {response.text}\")"
   ]
  },
  {
   "cell_type": "code",
   "execution_count": null,
   "metadata": {},
   "outputs": [],
   "source": [
    "import pandas as pd # type: ignore\n",
    "data = pd.read_csv('dataset/ms_lulusan.csv')"
   ]
  },
  {
   "cell_type": "code",
   "execution_count": null,
   "metadata": {},
   "outputs": [],
   "source": [
    "import pandas as pd\n",
    "\n",
    "for mahasiswa in data:\n",
    "    # Mendapatkan tanggal masuk\n",
    "    tgl_masuk = pd.to_datetime(mahasiswa['tgl_masuk'])\n",
    "    tanggal_lulus = pd.to_datetime(mahasiswa['tanggal_lulus'])\n",
    "\n",
    "    lama_kuliah = tanggal_lulus - tgl_masuk\n",
    "\n",
    "    tahun = lama_kuliah.days // 365\n",
    "    bulan = (lama_kuliah.days % 365) // 30\n",
    "\n",
    "    if tahun <= 4:\n",
    "        print(\"NIM = \", mahasiswa['nim'], \"- Lama kuliah = \", tahun, \"tahun\", bulan, \"bulan\")\n",
    "    else:\n",
    "        print(\"NIM = \", mahasiswa['nim'], \"- Lama kuliah = \", tahun, \"tahun\", bulan, \"bulan (lulus tidak tepat waktu)\")\n"
   ]
  },
  {
   "cell_type": "code",
   "execution_count": null,
   "metadata": {},
   "outputs": [],
   "source": [
    "import pandas as pd\n",
    "\n",
    "# Membuat list untuk menyimpan durasi studi setiap mahasiswa\n",
    "durasi_studi = []\n",
    "\n",
    "# Melakukan iterasi pada data untuk menghitung durasi studi setiap mahasiswa\n",
    "for mahasiswa in data:\n",
    "    # Mengonversi tanggal_masuk dan tanggal_lulus menjadi objek datetime\n",
    "    tgl_masuk = pd.to_datetime(mahasiswa['tgl_masuk'])\n",
    "    tanggal_lulus = pd.to_datetime(mahasiswa['tanggal_lulus'])\n",
    "\n",
    "    # Menghitung durasi studi dalam bulan\n",
    "    lama_kuliah_bulan = (tanggal_lulus.year - tgl_masuk.year) * 12 + (tanggal_lulus.month - tgl_masuk.month)\n",
    "    durasi_studi.append(lama_kuliah_bulan)\n",
    "\n",
    "# Mengonversi list durasi studi menjadi Series pandas\n",
    "durasi_studi_series = pd.Series(durasi_studi)\n",
    "\n",
    "# Menghitung rata-rata, median, dan modus\n",
    "rata_rata_durasi = durasi_studi_series.mean()\n",
    "median_durasi = durasi_studi_series.median()\n",
    "modus_durasi = durasi_studi_series.mode()[0]\n",
    "\n",
    "# Konversi durasi rata-rata, median, dan modus menjadi tahun dan bulan\n",
    "tahun_rata_rata = int(rata_rata_durasi) // 12\n",
    "bulan_rata_rata = int(rata_rata_durasi) % 12\n",
    "\n",
    "tahun_median = int(median_durasi) // 12\n",
    "bulan_median = int(median_durasi) % 12\n",
    "\n",
    "tahun_modus = int(modus_durasi) // 12\n",
    "bulan_modus = int(modus_durasi) % 12\n",
    "\n",
    "# Menampilkan hasil\n",
    "print(\"Rata-rata lama kuliah:\", tahun_rata_rata, \"tahun\", bulan_rata_rata, \"bulan\")\n",
    "print(\"Median lama kuliah:\", tahun_median, \"tahun\", bulan_median, \"bulan\")\n",
    "print(\"Modus lama kuliah:\", tahun_modus, \"tahun\", bulan_modus, \"bulan\")"
   ]
  },
  {
   "cell_type": "code",
   "execution_count": null,
   "metadata": {},
   "outputs": [],
   "source": [
    "import matplotlib.pyplot as plt\n",
    "\n",
    "# Histogram\n",
    "plt.figure(figsize=(10, 6))\n",
    "plt.hist(durasi_studi, bins=range(min(durasi_studi), max(durasi_studi) + 1, 1), edgecolor='black')\n",
    "plt.title('Distribusi Durasi Studi Mahasiswa')\n",
    "plt.xlabel('Durasi Studi (bulan)')\n",
    "plt.ylabel('Frekuensi')\n",
    "plt.grid(True)\n",
    "plt.show()"
   ]
  },
  {
   "cell_type": "code",
   "execution_count": null,
   "metadata": {},
   "outputs": [],
   "source": [
    "# Pie Chart Menghitung jumlah mahasiswa dalam setiap kategori durasi studi per bulan\n",
    "kategori_durasi_bulan = pd.cut(durasi_studi_series, bins=range(0, durasi_studi_series.max() + 1, 1), labels=range(1, durasi_studi_series.max() + 1))\n",
    "jumlah_mahasiswa_per_kategori_bulan = kategori_durasi_bulan.value_counts().sort_index()\n",
    "\n",
    "# Membuat pie chart\n",
    "plt.figure(figsize=(8, 8))\n",
    "plt.pie(jumlah_mahasiswa_per_kategori_bulan, labels=jumlah_mahasiswa_per_kategori_bulan.index, autopct='%1.1f%%', startangle=140)\n",
    "plt.title('Pie Chart Durasi Studi Mahasiswa (per Bulan)')\n",
    "plt.show()"
   ]
  },
  {
   "cell_type": "markdown",
   "metadata": {},
   "source": [
    "##### Studi Kasus 2"
   ]
  },
  {
   "cell_type": "code",
   "execution_count": null,
   "metadata": {},
   "outputs": [],
   "source": [
    "import requests\n",
    "import pandas as pd\n",
    "import numpy as np\n",
    "import nltk\n",
    "from nltk.tokenize import word_tokenize\n",
    "from nltk.stem import WordNetLemmatizer\n",
    "import string\n",
    "\n",
    "url = \"http://103.82.92.37/DM20232/getdata.php?table=ms_lulusan\"\n",
    "\n",
    "payload={}\n",
    "headers = {'api-key': 'DM20232UBP'}\n",
    "\n",
    "response = requests.request(\"GET\", url, headers=headers, data=payload)\n",
    "\n",
    "if response.status_code == 200:\n",
    "    data = response.json()\n",
    "    df = pd.DataFrame(data['data'])\n",
    "\n",
    "    jumlah_data = len(df)\n",
    "    print(\"Data yang diterima: \", jumlah_data)\n",
    "\n",
    "else:\n",
    "    print(f\"Gagal mengambil data. Status code: {response.status_code}: {response.text}\")\n"
   ]
  },
  {
   "cell_type": "code",
   "execution_count": null,
   "metadata": {},
   "outputs": [],
   "source": [
    "print(\"Daftar data lulusan\")\n",
    "df"
   ]
  },
  {
   "cell_type": "code",
   "execution_count": null,
   "metadata": {},
   "outputs": [],
   "source": [
    "# 1. Penanganan nilai hilang (missing value)\n",
    "\n",
    "df_missing = df.isnull()\n",
    "jumlah_hilang_perkolom = df_missing.sum(axis=0)\n",
    "pd.DataFrame(jumlah_hilang_perkolom)"
   ]
  },
  {
   "cell_type": "code",
   "execution_count": null,
   "metadata": {},
   "outputs": [],
   "source": [
    "# 2. Identifikasi baris yang merupakan duplikat dari dataset\n",
    "\n",
    "duplicate_value = df.duplicated().sum()\n",
    "duplicate_value"
   ]
  },
  {
   "cell_type": "code",
   "execution_count": null,
   "metadata": {},
   "outputs": [],
   "source": [
    "# 3. Identifikasi dan penanganan outliers\n",
    "# Menambahkan outlier ke kolom 'tahun_lahir' menggunakan z-score\n",
    "column = 'tahun_lahir'\n",
    "z_scores = np.abs((df[column] - df[column].mean()) / df[column].std())\n",
    "\n",
    "threshold = 3\n",
    "outliers = df[z_scores > threshold]\n",
    "\n",
    "# Menampilkan jumlah outlier yang ditambahkan\n",
    "print(\"Jumlah outliers yang ditambahkan:\", len(outliers))\n",
    "\n",
    "# Menampilkan 10 data outlier\n",
    "print(\"Data outlier:\")\n",
    "print(pd.DataFrame(outliers))\n",
    "\n",
    "import matplotlib.pyplot as plt\n",
    "\n",
    "# Visualisasi box plot untuk kolom 'tahun_lahir' dengan menandai outlier\n",
    "plt.figure(figsize=(10, 6))\n",
    "plt.boxplot(df['tahun_lahir'], vert=False, widths=0.7, patch_artist=True, meanline=True, showmeans=True)\n",
    "plt.title('Boxplot Tahun Lahir')\n",
    "plt.xlabel('Tahun Lahir')\n",
    "plt.show()"
   ]
  },
  {
   "cell_type": "code",
   "execution_count": null,
   "metadata": {},
   "outputs": [],
   "source": [
    "# 4. Identifikasi dan penanganan kesalahan tipe atau ketidaksesuaiaan format\n",
    "\n",
    "# Menampilkan tipe data untuk setiap kolom\n",
    "print(\"Tipe data untuk setiap kolom\")\n",
    "print(df.dtypes)\n",
    "\n",
    "try:\n",
    "    df['tanggal_lulus'] = pd.to_datetime(df['tanggal_lulus'])\n",
    "    df['tgl_masuk'] = pd.to_datetime(df['tgl_masuk'])\n",
    "    df['status_masuk'] = pd.Categorical(df['status_masuk'])\n",
    "    df['status_pegawai'] = pd.Categorical(df['status_pegawai'])\n",
    "except ValueError as e:\n",
    "    print(\"Kesalahan konversi tipe data \", e)\n",
    "\n",
    "# Menampilkan tipe data setelah penanganan\n",
    "    print(\"\\nTipe data setelah penanganan\")\n",
    "print(df.dtypes)"
   ]
  },
  {
   "cell_type": "code",
   "execution_count": null,
   "metadata": {},
   "outputs": [],
   "source": [
    "# 5. Mengidentifikasi dan menangani anomali atau nilai yang tidak sesuai dengan aturan bisnis atau ilmu pengetahuan\n",
    "\n",
    "# Menampilkan jumlah data sebelum penanganan \n",
    "jumlah_data_sebelum = len(df)\n",
    "print('jumlah data sebelum penanganan: ', jumlah_data_sebelum)\n",
    "\n",
    "# Mengganti nilai tahun lahin yang tidak sesuai dengan NaN\n",
    "tahun_min = 1900\n",
    "tahun_max = pd.Timestamp.now().year\n",
    "df.loc[(df['tahun_lahir'] < tahun_min) | (df['tahun_lahir'] > tahun_max), 'tahun_lahir'] = None\n",
    "\n",
    "# Menampilkan jumlah data setelah penanganan \n",
    "jumlah_data_setelah = len(df)\n",
    "print('jumlah data setelah penanganan: ', jumlah_data_setelah)\n",
    "\n",
    "# Menampilkan 5 baris pertama DataFrame setelah penanganan\n",
    "print(\"\\n5 baris pertama DataFrame setelah penanganan: \")\n",
    "print(df.head())\n"
   ]
  },
  {
   "cell_type": "code",
   "execution_count": null,
   "metadata": {},
   "outputs": [],
   "source": [
    "# 6. Membersihkan dan memproses data teks, termasuk penghapusan karakter atau stemming\n",
    "\n",
    "# Download paket 'punkt' untuk tokenisasi kata dan 'wordnet' untuk stemming\n",
    "nltk.download('punkt')\n",
    "nltk.download('wordnet')\n",
    "\n",
    "# Inisialisasi WordNetLemmatizer\n",
    "lemmatizer = WordNetLemmatizer()\n",
    "\n",
    "# Fungsi untuk membersihkan teks\n",
    "def cleanText(text):\n",
    "    text = str(text).lower() # ubah menjadi huruf kecil\n",
    "    text = text.translate(str.maketrans('', '', string.punctuation)) # hapus karakter khusus\n",
    "    tokens = word_tokenize(text) # tokenisasi kata\n",
    "    return tokens\n",
    "\n",
    "\n",
    "# Fungsi untuk melakukan stemming pada kata\n",
    "def stem_words(words):\n",
    "    stemmed_words = [lemmatizer.lemmatize(word) for word in words]\n",
    "    return stemmed_words\n",
    "\n",
    "# Membersihkan dan memproses data teks pada semua kolom teks \n",
    "for column in df.select_dtypes(include=['object']).columns:\n",
    "    df[column + '_cleaned'] = df[column].apply(cleanText)\n",
    "    df[column + '_stemmed'] = df[column + '_cleaned'].apply(stem_words)\n",
    "\n",
    "print(\"5 baris pertama DataFrame setelah pemrosesan: \")\n",
    "print(df.head())\n"
   ]
  },
  {
   "cell_type": "markdown",
   "metadata": {},
   "source": [
    "##### Studi Kasus 3"
   ]
  },
  {
   "cell_type": "code",
   "execution_count": null,
   "metadata": {},
   "outputs": [],
   "source": [
    "import pandas as pd\n",
    "\n",
    "data_lulusan = pd.read_csv('dataset/ms_lulusan.csv')\n",
    "\n",
    "df_lulusan = pd.DataFrame(data_lulusan)\n",
    "df_lulusan"
   ]
  },
  {
   "cell_type": "code",
   "execution_count": null,
   "metadata": {},
   "outputs": [],
   "source": [
    "data_transkip = pd.read_excel('dataset/transkip_nilai.xlsx')\n",
    "df_transkip = pd.DataFrame(data_transkip)\n",
    "df_transkip"
   ]
  },
  {
   "cell_type": "code",
   "execution_count": null,
   "metadata": {},
   "outputs": [],
   "source": [
    "df_merge_transkip = pd.merge(df_lulusan, df_transkip, on='nim', how='left')\n",
    "df_merge_transkip.head(100)"
   ]
  },
  {
   "cell_type": "code",
   "execution_count": null,
   "metadata": {},
   "outputs": [],
   "source": [
    "def hitung_durasi_studi(df):\n",
    "    \n",
    "    # Konversi kolom tanggal_lulus dan tgl_masuk kedalam tipe data datetime\n",
    "    df_lulusan['tanggal_lulus'] = pd.to_datetime(df_lulusan['tanggal_lulus'])\n",
    "    df_lulusan['tgl_masuk'] = pd.to_datetime(df_lulusan['tgl_masuk'])\n",
    "\n",
    "    # Kelompokkan data berdasarkan NIM\n",
    "    grouped = df.groupby('nim')\n",
    "\n",
    "    durasi_studi_data = []\n",
    "    \n",
    "    for (nim), group in grouped:\n",
    "        # Hitung nilai total (jumlah perkalian nilai dengan SKS) dan jumlah total SKS\n",
    "        durasi_studi = (group['tanggal_lulus'] - group['tgl_masuk']).sum()\n",
    "        # Ambil tahun, bulan, dan hari dari objek timedelta\n",
    "        durasi_studi_years = durasi_studi.days // 365\n",
    "        \n",
    "        # Tambahkan data IPS ke list\n",
    "        durasi_studi_str = f\"{durasi_studi_years} tahun\"\n",
    "        durasi_studi_data.append({'nim': nim, 'durasi_studi': durasi_studi_str})\n",
    "    \n",
    "    # Buat DataFrame dari list data IPS\n",
    "    df_durasi_studi = pd.DataFrame(durasi_studi_data)\n",
    "    return df_durasi_studi\n",
    "\n",
    "# Hitung IPS untuk data transkrip nilai\n",
    "durasi_studi = hitung_durasi_studi(df_lulusan)\n",
    "\n",
    "# Tampilkan hasil\n",
    "df_durasi_studi = pd.DataFrame(durasi_studi)\n",
    "df_durasi_studi.drop_duplicates()\n",
    "\n",
    "df_durasi_studi"
   ]
  },
  {
   "cell_type": "code",
   "execution_count": null,
   "metadata": {},
   "outputs": [],
   "source": [
    "df_merge_durasi_studi = pd.merge(df_merge_transkip, df_durasi_studi, on='nim', how='left')\n",
    "df_merge_durasi_studi"
   ]
  },
  {
   "cell_type": "code",
   "execution_count": null,
   "metadata": {},
   "outputs": [],
   "source": [
    "import matplotlib.pyplot as plt\n",
    "\n",
    "plt.figure(figsize=(10,6))\n",
    "plt.hist(df_merge_durasi_studi['durasi_studi'], bins=20, color='skyblue', edgecolor='black')\n",
    "plt.title(\"Distribusi Durasi Studi Mahasiswa\")\n",
    "plt.xlabel(\"Durasi Studi (tahun)\")\n",
    "plt.ylabel(\"Jumlah Mahasiswa\")\n",
    "plt.grid(True)\n",
    "plt.show()"
   ]
  },
  {
   "cell_type": "code",
   "execution_count": null,
   "metadata": {},
   "outputs": [],
   "source": [
    "df_merge_transkip = pd.merge( df_lulusan )"
   ]
  },
  {
   "cell_type": "code",
   "execution_count": null,
   "metadata": {},
   "outputs": [],
   "source": [
    "df_lulusan.isnull().sum()"
   ]
  },
  {
   "cell_type": "code",
   "execution_count": null,
   "metadata": {},
   "outputs": [],
   "source": [
    "df['tanggal_lulus'] = pd.to_datetime(df['tanggal_lulus'])\n",
    "df['tgl_masuk'] = pd.to_datetime(df['tgl_masuk'])\n",
    "df['durasi_studi'] = (df['tanggal_lulus'] - df['tgl_masuk']).dt.days // 365\n",
    "\n",
    "# Analisis berdasarkan faktor-faktor yang diberikan\n",
    "faktor_analisis = ['prodi', 'jenis_kelamin', 'tahun_lahir', 'status_pegawai']\n",
    "\n",
    "for faktor in faktor_analisis:\n",
    "    print(f\"Analisis berdasarkan {faktor}\")\n",
    "    print(df.groupby(faktor)['durasi_studi'].mean())\n",
    "    print(\"\\n\")"
   ]
  }
 ],
 "metadata": {
  "kernelspec": {
   "display_name": "Python 3",
   "language": "python",
   "name": "python3"
  },
  "language_info": {
   "codemirror_mode": {
    "name": "ipython",
    "version": 3
   },
   "file_extension": ".py",
   "mimetype": "text/x-python",
   "name": "python",
   "nbconvert_exporter": "python",
   "pygments_lexer": "ipython3",
   "version": "3.12.3"
  }
 },
 "nbformat": 4,
 "nbformat_minor": 2
}
